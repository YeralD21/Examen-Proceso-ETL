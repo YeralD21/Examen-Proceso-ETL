{
  "cells": [
    {
      "cell_type": "markdown",
      "metadata": {},
      "source": [
        "# PROCESO ETL COMPLETO - KAGGLE SURVEY 2019\n",
        "## Aplicado al Área de Ingeniería de Sistemas\n",
        "\n",
        "---\n",
        "\n",
        "### 📋 **INFORMACIÓN DEL PROYECTO**\n",
        "\n",
        "**Autor:** [Tu Nombre]  \n",
        "**Fecha:** Septiembre 2025  \n",
        "**Curso:** Business Intelligence - UPEU  \n",
        "**Dataset:** Kaggle Machine Learning & Data Science Survey 2019  \n",
        "**Aplicación:** Ingeniería de Sistemas  \n",
        "**Horas de Documentación:** 30-50 horas  \n",
        "\n",
        "---\n",
        "\n",
        "### 🎯 **OBJETIVOS DEL PROYECTO**\n",
        "\n",
        "1. **Implementar un proceso ETL robusto** y reproducible\n",
        "2. **Analizar tendencias tecnológicas** relevantes para Ingeniería de Sistemas\n",
        "3. **Validar resultados** mediante comparación con Power BI\n",
        "4. **Generar insights accionables** para la toma de decisiones tecnológicas\n",
        "5. **Documentar completamente** el proceso para fines académicos\n",
        "\n",
        "---\n",
        "\n",
        "### 📊 **ESTRUCTURA DEL NOTEBOOK**\n",
        "\n",
        "1. **[1. Configuración del Entorno](#1-configuración-del-entorno)**\n",
        "2. **[2. Extracción de Datos](#2-extracción-de-datos)**\n",
        "3. **[3. Análisis Exploratorio de Datos (EDA)](#3-análisis-exploratorio-de-datos-eda)**\n",
        "4. **[4. Limpieza y Transformación](#4-limpieza-y-transformación)**\n",
        "5. **[5. Carga de Datos](#5-carga-de-datos)**\n",
        "6. **[6. Validación con Power BI](#6-validación-con-power-bi)**\n",
        "7. **[7. Análisis de Resultados](#7-análisis-de-resultados)**\n",
        "8. **[8. Conclusiones y Recomendaciones](#8-conclusiones-y-recomendaciones)**\n",
        "\n",
        "---\n"
      ]
    },
    {
      "cell_type": "markdown",
      "metadata": {},
      "source": [
        "## 1. CONFIGURACIÓN DEL ENTORNO\n",
        "\n",
        "### 📦 **Instalación de Dependencias**\n",
        "\n",
        "Primero, instalamos todas las librerías necesarias para el proceso ETL:\n"
      ]
    },
    {
      "cell_type": "code",
      "execution_count": null,
      "metadata": {},
      "outputs": [],
      "source": [
        "# Instalación de dependencias (ejecutar solo si es necesario)\n",
        "# !pip install pandas numpy matplotlib seaborn plotly openpyxl jupyter\n",
        "\n",
        "print(\"📦 Dependencias instaladas correctamente\")\n"
      ]
    },
    {
      "cell_type": "markdown",
      "metadata": {},
      "source": [
        "### 📚 **Importación de Librerías**\n",
        "\n",
        "Importamos todas las librerías necesarias para el análisis:\n"
      ]
    },
    {
      "cell_type": "code",
      "execution_count": null,
      "metadata": {},
      "outputs": [],
      "source": [
        "# Librerías principales para análisis de datos\n",
        "import pandas as pd\n",
        "import numpy as np\n",
        "import matplotlib.pyplot as plt\n",
        "import seaborn as sns\n",
        "import plotly.express as px\n",
        "import plotly.graph_objects as go\n",
        "from plotly.subplots import make_subplots\n",
        "\n",
        "# Librerías para manejo de archivos y fechas\n",
        "import os\n",
        "import glob\n",
        "from datetime import datetime\n",
        "import warnings\n",
        "\n",
        "# Configuración de visualizaciones\n",
        "plt.style.use('seaborn-v0_8')\n",
        "plt.rcParams['figure.figsize'] = (15, 10)\n",
        "plt.rcParams['font.size'] = 12\n",
        "plt.rcParams['axes.titlesize'] = 16\n",
        "plt.rcParams['axes.labelsize'] = 14\n",
        "\n",
        "# Configuración de pandas\n",
        "pd.set_option('display.max_columns', None)\n",
        "pd.set_option('display.width', None)\n",
        "pd.set_option('display.max_colwidth', 50)\n",
        "\n",
        "# Suprimir warnings\n",
        "warnings.filterwarnings('ignore')\n",
        "\n",
        "print(\"✅ Librerías importadas correctamente\")\n",
        "print(f\"📅 Fecha de ejecución: {datetime.now().strftime('%Y-%m-%d %H:%M:%S')}\")\n"
      ]
    },
    {
      "cell_type": "markdown",
      "metadata": {},
      "source": [
        "### 🔧 **Configuración del Entorno**\n",
        "\n",
        "Configuramos el entorno de trabajo y verificamos los archivos disponibles:\n"
      ]
    },
    {
      "cell_type": "code",
      "execution_count": null,
      "metadata": {},
      "outputs": [],
      "source": [
        "# Verificar directorio de trabajo\n",
        "print(f\"📁 Directorio de trabajo: {os.getcwd()}\")\n",
        "\n",
        "# Verificar archivos disponibles\n",
        "archivos_csv = glob.glob(\"*.csv\")\n",
        "archivos_excel = glob.glob(\"*.xlsx\")\n",
        "archivos_txt = glob.glob(\"*.txt\")\n",
        "\n",
        "print(f\"\\n📊 Archivos encontrados:\")\n",
        "print(f\"   • Archivos CSV: {len(archivos_csv)}\")\n",
        "print(f\"   • Archivos Excel: {len(archivos_excel)}\")\n",
        "print(f\"   • Archivos TXT: {len(archivos_txt)}\")\n",
        "\n",
        "# Mostrar archivos principales\n",
        "if archivos_csv:\n",
        "    print(f\"\\n📄 Archivos CSV principales:\")\n",
        "    for archivo in archivos_csv[:5]:\n",
        "        tamaño = os.path.getsize(archivo) / 1024 / 1024  # MB\n",
        "        print(f\"   • {archivo} ({tamaño:.2f} MB)\")\n"
      ]
    },
    {
      "cell_type": "markdown",
      "metadata": {},
      "source": [
        "---\n",
        "\n",
        "## 2. EXTRACCIÓN DE DATOS\n",
        "\n",
        "### 📊 **Descripción del Dataset**\n",
        "\n",
        "El dataset de **Kaggle Machine Learning & Data Science Survey 2019** es una encuesta global que recopila información de profesionales en el campo de la ciencia de datos y machine learning. Este dataset es altamente relevante para **Ingeniería de Sistemas** porque:\n",
        "\n",
        "#### 🏗️ **Infraestructura y Arquitectura:**\n",
        "- Contiene información sobre herramientas de desarrollo (IDEs, editores)\n",
        "- Datos sobre plataformas de computación en la nube (AWS, Azure, GCP)\n",
        "- Información sobre bases de datos y sistemas de almacenamiento\n",
        "- Herramientas de big data y analytics\n",
        "\n",
        "#### 💻 **Desarrollo de Software:**\n",
        "- Lenguajes de programación más utilizados en la industria\n",
        "- Frameworks y bibliotecas de machine learning\n",
        "- Herramientas de control de versiones y colaboración\n",
        "- Metodologías de desarrollo y despliegue\n",
        "\n",
        "#### 🔧 **Herramientas y Tecnologías:**\n",
        "- IDEs y editores de código preferidos\n",
        "- Plataformas de notebooks y desarrollo colaborativo\n",
        "- Herramientas de visualización de datos\n",
        "- Sistemas de bases de datos relacionales y NoSQL\n"
      ]
    },
    {
      "cell_type": "markdown",
      "metadata": {},
      "source": [
        "### 📁 **Carga del Dataset Original**\n",
        "\n",
        "Cargamos el dataset original desde el archivo CSV:\n"
      ]
    },
    {
      "cell_type": "code",
      "execution_count": null,
      "metadata": {},
      "outputs": [],
      "source": [
        "# Definir el archivo de datos\n",
        "archivo_original = \"multipleChoiceResponses.csv\"\n",
        "\n",
        "# Verificar que el archivo existe\n",
        "if not os.path.exists(archivo_original):\n",
        "    print(f\"❌ Error: No se encontró el archivo {archivo_original}\")\n",
        "    print(\"Asegúrate de que el archivo esté en el directorio actual\")\n",
        "else:\n",
        "    print(f\"✅ Archivo encontrado: {archivo_original}\")\n",
        "    \n",
        "    # Obtener información del archivo\n",
        "    tamaño_archivo = os.path.getsize(archivo_original) / 1024 / 1024  # MB\n",
        "    print(f\"📊 Tamaño del archivo: {tamaño_archivo:.2f} MB\")\n",
        "    \n",
        "    # Cargar el dataset\n",
        "    print(\"\\n⏳ Cargando dataset... (esto puede tomar unos segundos)\")\n",
        "    \n",
        "    try:\n",
        "        # Cargar con configuración optimizada\n",
        "        df_original = pd.read_csv(archivo_original, encoding='utf-8', low_memory=False)\n",
        "        \n",
        "        print(f\"✅ Dataset cargado exitosamente\")\n",
        "        print(f\"📊 Dimensiones: {df_original.shape[0]:,} filas × {df_original.shape[1]:,} columnas\")\n",
        "        print(f\"💾 Memoria utilizada: {df_original.memory_usage(deep=True).sum() / 1024**2:.2f} MB\")\n",
        "        \n",
        "    except Exception as e:\n",
        "        print(f\"❌ Error al cargar el dataset: {str(e)}\")\n"
      ]
    }
  ],
  "metadata": {
    "language_info": {
      "name": "python"
    }
  },
  "nbformat": 4,
  "nbformat_minor": 2
}
